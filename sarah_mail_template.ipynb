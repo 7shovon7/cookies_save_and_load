{
 "cells": [
  {
   "cell_type": "code",
   "execution_count": 1,
   "metadata": {},
   "outputs": [],
   "source": [
    "import time\n",
    "import pickle\n",
    "from selenium import webdriver\n",
    "from urllib.parse import urlparse\n",
    "from bs4 import BeautifulSoup\n",
    "from gsheet import authenticate\n",
    "from selenium.webdriver.common.keys import Keys\n",
    "from selenium.webdriver.common.by import By"
   ]
  },
  {
   "cell_type": "code",
   "execution_count": 22,
   "metadata": {},
   "outputs": [],
   "source": []
  },
  {
   "cell_type": "code",
   "execution_count": 23,
   "metadata": {},
   "outputs": [],
   "source": []
  },
  {
   "cell_type": "code",
   "execution_count": 2,
   "metadata": {},
   "outputs": [],
   "source": [
    "chrome = webdriver.Firefox()\n",
    "# chrome = webdriver.Chrome()"
   ]
  },
  {
   "cell_type": "code",
   "execution_count": 3,
   "metadata": {},
   "outputs": [],
   "source": [
    "ln_url = \"https://www.linkedin.com\"\n",
    "g_url = \"https://google.com\"\n",
    "outlook_office_url = \"https://outlook.office.com/\"\n",
    "outlook_url = \"https://outlook.live.com/\"\n",
    "outlook_live_url = \"https://outlook.live.com/mail/0/inbox\""
   ]
  },
  {
   "cell_type": "code",
   "execution_count": 4,
   "metadata": {},
   "outputs": [],
   "source": [
    "# def load_cookies(driver, location, url=None):\n",
    "#     cookies = pickle.load(open(location, \"rb\"))\n",
    "#     driver.delete_all_cookies()\n",
    "#     url = \"https://www.google.com\" if url is None else url\n",
    "#     driver.get(url)\n",
    "#     for cookie in cookies:\n",
    "#         driver.add_cookie(cookie)"
   ]
  },
  {
   "cell_type": "code",
   "execution_count": 5,
   "metadata": {},
   "outputs": [],
   "source": [
    "# msg_body1 = open(\"html_msg.txt\").read()\n",
    "# load_cookies(chrome, \"cookies/sarah_new.txt\")"
   ]
  },
  {
   "cell_type": "code",
   "execution_count": 36,
   "metadata": {},
   "outputs": [],
   "source": [
    "# chrome.get(g_url)\n",
    "chrome.get(outlook_live_url)"
   ]
  },
  {
   "cell_type": "code",
   "execution_count": 9,
   "metadata": {},
   "outputs": [],
   "source": [
    "pickle.dump(chrome.get_cookies(), open(\"cookies/outlook_mars_firefox.txt\", \"wb\"))"
   ]
  },
  {
   "cell_type": "code",
   "execution_count": 37,
   "metadata": {},
   "outputs": [],
   "source": [
    "# new_msg = chrome.find_elements_by_class_name(\"ms-Button--commandBar\")\n",
    "# new_msg = chrome.find_elements_by_partial_link_text(\"New message\")\n",
    "new_msg = chrome.find_elements_by_class_name(\"_33rLSYbzxvhXjgYTwfjWQI\")"
   ]
  },
  {
   "cell_type": "code",
   "execution_count": 38,
   "metadata": {},
   "outputs": [],
   "source": [
    "new_msg[0].click()"
   ]
  },
  {
   "cell_type": "code",
   "execution_count": 12,
   "metadata": {},
   "outputs": [],
   "source": [
    "client = authenticate(\"creds/s_a_creds.json\")\n",
    "# OPEN SHEET AND DO SOME MODIFICATIONS\n",
    "# sheet_url = \"https://docs.google.com/spreadsheets/d/1UGhTjkslKEjoYA0mDe5l8GtS80hS39IsTe0YTE5s0a8/edit#gid=0\"\n",
    "fortest = \"https://docs.google.com/spreadsheets/d/1UGhTjkslKEjoYA0mDe5l8GtS80hS39IsTe0YTE5s0a8/edit#gid=0\"\n",
    "workbook = client.open_by_url(fortest)\n",
    "selected_tab = workbook.worksheet(\"Sheet2\")\n",
    "# "
   ]
  },
  {
   "cell_type": "code",
   "execution_count": 35,
   "metadata": {},
   "outputs": [],
   "source": [
    "starting_row = 915\n",
    "finishing_row = 920\n",
    "companies = selected_tab.get(f\"A{starting_row}:A{finishing_row}\")\n",
    "first_names = selected_tab.get(f\"E{starting_row}:E{finishing_row}\")\n",
    "emails = selected_tab.get(f\"H{starting_row}:H{finishing_row}\")\n"
   ]
  },
  {
   "cell_type": "code",
   "execution_count": 39,
   "metadata": {},
   "outputs": [
    {
     "ename": "KeyboardInterrupt",
     "evalue": "",
     "output_type": "error",
     "traceback": [
      "\u001b[0;31m---------------------------------------------------------------------------\u001b[0m",
      "\u001b[0;31mKeyboardInterrupt\u001b[0m                         Traceback (most recent call last)",
      "\u001b[0;32m<ipython-input-39-b79814b8649e>\u001b[0m in \u001b[0;36m<module>\u001b[0;34m\u001b[0m\n\u001b[1;32m     17\u001b[0m     \u001b[0mmsg_body\u001b[0m \u001b[0;34m=\u001b[0m \u001b[0mchrome\u001b[0m\u001b[0;34m.\u001b[0m\u001b[0mfind_elements_by_xpath\u001b[0m\u001b[0;34m(\u001b[0m\u001b[0;34m\"//div[@aria-label='Message body']\"\u001b[0m\u001b[0;34m)\u001b[0m\u001b[0;34m\u001b[0m\u001b[0;34m\u001b[0m\u001b[0m\n\u001b[1;32m     18\u001b[0m     \u001b[0mmsg_body\u001b[0m\u001b[0;34m[\u001b[0m\u001b[0;36m0\u001b[0m\u001b[0;34m]\u001b[0m\u001b[0;34m.\u001b[0m\u001b[0msend_keys\u001b[0m\u001b[0;34m(\u001b[0m\u001b[0;34mf\"Hi {first_name},\\n\\n\"\u001b[0m\u001b[0;34m)\u001b[0m\u001b[0;34m\u001b[0m\u001b[0;34m\u001b[0m\u001b[0m\n\u001b[0;32m---> 19\u001b[0;31m     \u001b[0mtime\u001b[0m\u001b[0;34m.\u001b[0m\u001b[0msleep\u001b[0m\u001b[0;34m(\u001b[0m\u001b[0;36m2\u001b[0m\u001b[0;34m)\u001b[0m\u001b[0;34m\u001b[0m\u001b[0;34m\u001b[0m\u001b[0m\n\u001b[0m\u001b[1;32m     20\u001b[0m     \u001b[0mact\u001b[0m\u001b[0;34m.\u001b[0m\u001b[0mkey_down\u001b[0m\u001b[0;34m(\u001b[0m\u001b[0mKeys\u001b[0m\u001b[0;34m.\u001b[0m\u001b[0mCONTROL\u001b[0m\u001b[0;34m)\u001b[0m\u001b[0;34m.\u001b[0m\u001b[0msend_keys\u001b[0m\u001b[0;34m(\u001b[0m\u001b[0;34m\"v\"\u001b[0m\u001b[0;34m)\u001b[0m\u001b[0;34m.\u001b[0m\u001b[0mperform\u001b[0m\u001b[0;34m(\u001b[0m\u001b[0;34m)\u001b[0m\u001b[0;34m\u001b[0m\u001b[0;34m\u001b[0m\u001b[0m\n\u001b[1;32m     21\u001b[0m     \u001b[0mtime\u001b[0m\u001b[0;34m.\u001b[0m\u001b[0msleep\u001b[0m\u001b[0;34m(\u001b[0m\u001b[0;36m5\u001b[0m\u001b[0;34m)\u001b[0m\u001b[0;34m\u001b[0m\u001b[0;34m\u001b[0m\u001b[0m\n",
      "\u001b[0;31mKeyboardInterrupt\u001b[0m: "
     ]
    }
   ],
   "source": [
    "for i in range(len(emails)):\n",
    "    new_msg = chrome.find_elements_by_class_name(\"_33rLSYbzxvhXjgYTwfjWQI\")\n",
    "    new_msg[0].click()\n",
    "    email = emails[i][0]\n",
    "    company_name = companies[i][0]\n",
    "    time.sleep(5)\n",
    "    first_name = first_names[i][0]\n",
    "    to = chrome.find_elements_by_class_name(\"pickerInput_cf204fb8\")\n",
    "    to[0].send_keys(email)\n",
    "    time.sleep(10)\n",
    "    to[0].send_keys(Keys.ENTER)\n",
    "    time.sleep(5)\n",
    "    subject = chrome.find_elements_by_xpath(\"//input[@placeholder='Add a subject']\")\n",
    "    subject[0].click()\n",
    "    subject[0].send_keys(f\"Private, online data science training exclusively for {company_name}\")\n",
    "    time.sleep(10)\n",
    "    msg_body = chrome.find_elements_by_xpath(\"//div[@aria-label='Message body']\")\n",
    "    msg_body[0].send_keys(f\"Hi {first_name},\\n\\n\")\n",
    "    time.sleep(2)\n",
    "    act.key_down(Keys.CONTROL).send_keys(\"v\").perform()\n",
    "    time.sleep(5)"
   ]
  },
  {
   "cell_type": "code",
   "execution_count": 21,
   "metadata": {},
   "outputs": [],
   "source": [
    "chrome.get(\"https://docs.google.com/document/d/1Fw-QKu1pSZdkIMPGuhPMTlgsoCum4lDttfNmvUOaeec/edit?usp=sharing\")"
   ]
  },
  {
   "cell_type": "code",
   "execution_count": 27,
   "metadata": {},
   "outputs": [],
   "source": [
    "act = webdriver.ActionChains(chrome)"
   ]
  },
  {
   "cell_type": "code",
   "execution_count": 34,
   "metadata": {},
   "outputs": [],
   "source": [
    "# act.key_down(Keys.CONTROL).send_keys(\"a\").perform()\n",
    "act.key_down(Keys.CONTROL).send_keys(\"c\").perform()"
   ]
  },
  {
   "cell_type": "code",
   "execution_count": 81,
   "metadata": {},
   "outputs": [],
   "source": [
    "# msg_body[0].send_keys(\"message\")"
   ]
  },
  {
   "cell_type": "code",
   "execution_count": null,
   "metadata": {},
   "outputs": [],
   "source": []
  }
 ],
 "metadata": {
  "kernelspec": {
   "display_name": "Python 3.8.2 64-bit",
   "language": "python",
   "name": "python38264bit2773b01ffd8f4539a47c872b218cf130"
  },
  "language_info": {
   "codemirror_mode": {
    "name": "ipython",
    "version": 3
   },
   "file_extension": ".py",
   "mimetype": "text/x-python",
   "name": "python",
   "nbconvert_exporter": "python",
   "pygments_lexer": "ipython3",
   "version": "3.8.2"
  }
 },
 "nbformat": 4,
 "nbformat_minor": 4
}
