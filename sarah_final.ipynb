{
 "cells": [
  {
   "cell_type": "code",
   "execution_count": 20,
   "metadata": {},
   "outputs": [],
   "source": [
    "import time\n",
    "import pickle\n",
    "from selenium import webdriver\n",
    "from urllib.parse import urlparse\n",
    "from bs4 import BeautifulSoup\n",
    "from gsheet import authenticate\n",
    "from selenium.webdriver.common.keys import Keys\n",
    "from selenium.webdriver.common.by import By"
   ]
  },
  {
   "cell_type": "code",
   "execution_count": 21,
   "metadata": {},
   "outputs": [],
   "source": [
    "chrome = webdriver.Firefox()\n",
    "# chrome = webdriver.Chrome()"
   ]
  },
  {
   "cell_type": "code",
   "execution_count": 22,
   "metadata": {},
   "outputs": [],
   "source": [
    "google = \"https://google.com\"\n",
    "first_template = \"https://docs.google.com/document/d/1Fw-QKu1pSZdkIMPGuhPMTlgsoCum4lDttfNmvUOaeec/edit?usp=sharing\"\n",
    "outlook_office_url = \"https://outlook.office.com/\"\n",
    "outlook_url = \"https://outlook.live.com/\"\n",
    "action = webdriver.ActionChains(chrome)"
   ]
  },
  {
   "cell_type": "code",
   "execution_count": 23,
   "metadata": {},
   "outputs": [],
   "source": [
    "# def load_cookies(driver, location, url=None):\n",
    "#     cookies = pickle.load(open(location, \"rb\"))\n",
    "#     driver.delete_all_cookies()\n",
    "#     url = \"https://outlook.live.com\" if url is None else url\n",
    "#     driver.get(url)\n",
    "#     for cookie in cookies:\n",
    "#         driver.add_cookie(cookie)"
   ]
  },
  {
   "cell_type": "code",
   "execution_count": 24,
   "metadata": {},
   "outputs": [],
   "source": [
    "# load_cookies(chrome, \"cookies/outlook_mars_firefox.txt\")"
   ]
  },
  {
   "cell_type": "code",
   "execution_count": 25,
   "metadata": {},
   "outputs": [],
   "source": [
    "# pickle.dump(chrome.get_cookies(), open(\"cookies/outlook_mars_firefox.txt\", \"wb\"))"
   ]
  },
  {
   "cell_type": "code",
   "execution_count": 26,
   "metadata": {},
   "outputs": [],
   "source": [
    "def grab_template(template):\n",
    "    chrome.get(template)\n",
    "    time.sleep(5)\n",
    "    action.key_down(Keys.CONTROL).send_keys(\"a\").key_up(Keys.CONTROL).perform()\n",
    "    time.sleep(1)\n",
    "    action.key_down(Keys.CONTROL).send_keys(\"c\").key_up(Keys.CONTROL).perform()"
   ]
  },
  {
   "cell_type": "code",
   "execution_count": 27,
   "metadata": {},
   "outputs": [],
   "source": [
    "# Login\n",
    "def login_to_outlook_live(email, password):\n",
    "    chrome.get(\"https://login.live.com\")\n",
    "    time.sleep(3)\n",
    "    mail_id = chrome.find_element_by_name(\"loginfmt\")\n",
    "    mail_id.send_keys(email)\n",
    "    mail_id.send_keys(Keys.RETURN)\n",
    "    time.sleep(2)\n",
    "    passwd = chrome.find_element_by_name(\"passwd\")\n",
    "    passwd.send_keys(password)\n",
    "    passwd.submit()\n",
    "    time.sleep(3)\n",
    "    chrome.get(\"https://outlook.live.com\")\n",
    "\n",
    "    \n",
    "def login_to_outlook_office(email, password):\n",
    "    chrome.get(\"https://outlook.office.com\")\n",
    "    time.sleep(3)\n",
    "    mail_id = chrome.find_element_by_name(\"loginfmt\")\n",
    "    mail_id.send_keys(email)\n",
    "    mail_id.send_keys(Keys.RETURN)\n",
    "    time.sleep(2)\n",
    "    passwd = chrome.find_element_by_name(\"passwd\")\n",
    "    passwd.send_keys(password)\n",
    "    passwd.submit()\n",
    "    time.sleep(3)\n",
    "    chrome.get(\"https://outlook.live.com\")"
   ]
  },
  {
   "cell_type": "code",
   "execution_count": 28,
   "metadata": {},
   "outputs": [],
   "source": [
    "login_to_outlook_live(\"neelameherunnesa@outlook.com\", \"neela99999999\")"
   ]
  },
  {
   "cell_type": "code",
   "execution_count": 29,
   "metadata": {},
   "outputs": [],
   "source": [
    "# Send An Email\n",
    "def send_email_from_sarah(email, first_name, company_name, duration):\n",
    "    new_msg = chrome.find_elements_by_class_name(\"_33rLSYbzxvhXjgYTwfjWQI\")\n",
    "    new_msg[0].click()\n",
    "    time.sleep(duration)\n",
    "    to = chrome.find_elements_by_class_name(\"pickerInput_cf204fb8\")\n",
    "    to[0].send_keys(email)\n",
    "    time.sleep(duration)\n",
    "    to[0].send_keys(Keys.ENTER)\n",
    "    time.sleep(2)\n",
    "    subject = chrome.find_elements_by_xpath(\"//input[@placeholder='Add a subject']\")\n",
    "    subject[0].click()\n",
    "    subject[0].send_keys(f\"Private, online data science training exclusively for {company_name}\")\n",
    "    time.sleep(duration)\n",
    "    msg_body = chrome.find_elements_by_xpath(\"//div[@aria-label='Message body']\")\n",
    "    msg_body[0].click()\n",
    "    msg_body[0].send_keys(f\"Hi {first_name},\\n\\n\")\n",
    "    time.sleep(2)\n",
    "    msg_body[0].send_keys(Keys.CONTROL + \"v\")\n",
    "    time.sleep(duration)\n",
    "    msg_body[0].send_keys(Keys.BACKSPACE)\n",
    "    time.sleep(2)\n",
    "    confirmation = input(f\"Before sending please check that,\\nThe Person's name is {first_name},\\nHis mail address is {email}\\nAnd he works in {company_name}\\nPress ENTER to SEND the mail to {first_name}\")\n",
    "    if confirmation == \"\":\n",
    "        msg_body[0].send_keys(Keys.CONTROL + Keys.ENTER)\n",
    "        print(f\"Email sent to {first_name}\\n\")\n",
    "    else:\n",
    "        print(f\"The mail is saved to the Draft Folder.\\n\")"
   ]
  },
  {
   "cell_type": "code",
   "execution_count": 30,
   "metadata": {},
   "outputs": [],
   "source": [
    "def connect_to_gsheet(credentials, url, tab_name):\n",
    "    client = authenticate(credentials)\n",
    "    workbook = client.open_by_url(url)\n",
    "    selected_tab = workbook.worksheet(tab_name)\n",
    "    return selected_tab"
   ]
  },
  {
   "cell_type": "code",
   "execution_count": 31,
   "metadata": {},
   "outputs": [],
   "source": [
    "# sheet_url = \"https://docs.google.com/spreadsheets/d/1UGhTjkslKEjoYA0mDe5l8GtS80hS39IsTe0YTE5s0a8/edit#gid=0\"\n",
    "fortest = \"https://docs.google.com/spreadsheets/d/1UGhTjkslKEjoYA0mDe5l8GtS80hS39IsTe0YTE5s0a8/edit#gid=0\"\n",
    "gsheet_creds = \"creds/s_a_creds.json\"\n",
    "tab_name = \"Sheet2\"\n",
    "selected_tab = connect_to_gsheet(gsheet_creds, fortest, tab_name)"
   ]
  },
  {
   "cell_type": "code",
   "execution_count": 32,
   "metadata": {},
   "outputs": [],
   "source": [
    "grab_template(first_template)\n",
    "chrome.get(outlook_url)"
   ]
  },
  {
   "cell_type": "code",
   "execution_count": 33,
   "metadata": {},
   "outputs": [
    {
     "name": "stdout",
     "output_type": "stream",
     "text": [
      "Google Sheet Row Data:\n",
      "Enter the Starting Row Number: 915\n",
      "Enter the Finishing Row Number: 918\n",
      "You have selected 4 rows.\n",
      "Before sending please check that,\n",
      "The Person's name is Aaron,\n",
      "His mail address is mahmudur.rahman99@gmail.com\n",
      "And he works in The Trade Desk\n",
      "Press ENTER to SEND the mail to Aaron\n",
      "Email sent to Aaron\n",
      "\n",
      "Before sending please check that,\n",
      "The Person's name is Alexa,\n",
      "His mail address is shovon@marsdecoder.com\n",
      "And he works in The Trade Desk\n",
      "Press ENTER to SEND the mail to Alexaskjfksjfkl\n",
      "The mail is saved to the Draft Folder.\n",
      "\n",
      "Before sending please check that,\n",
      "The Person's name is Ally,\n",
      "His mail address is mahmudur.rahman99@outlook.com\n",
      "And he works in The Trade Desk\n",
      "Press ENTER to SEND the mail to Ally\n",
      "Email sent to Ally\n",
      "\n",
      "Before sending please check that,\n",
      "The Person's name is Amanda,\n",
      "His mail address is 8shovon8@gmail.com\n",
      "And he works in The Trade Desk\n",
      "Press ENTER to SEND the mail to Amanda\n",
      "Email sent to Amanda\n",
      "\n"
     ]
    }
   ],
   "source": [
    "# Select rows and send mail to them\n",
    "print(\"Google Sheet Row Data:\")\n",
    "starting_row = int(input(\"Enter the Starting Row Number: \"))\n",
    "finishing_row = int(input(\"Enter the Finishing Row Number: \"))\n",
    "companies = selected_tab.get(f\"A{starting_row}:A{finishing_row}\")\n",
    "first_names = selected_tab.get(f\"E{starting_row}:E{finishing_row}\")\n",
    "emails = selected_tab.get(f\"H{starting_row}:H{finishing_row}\")\n",
    "total_rows = finishing_row - starting_row + 1\n",
    "print(f\"You have selected {total_rows} rows.\")\n",
    "# Loop\n",
    "for i in range(total_rows):\n",
    "    email = emails[i][0]\n",
    "    company_name = companies[i][0]\n",
    "    first_name = first_names[i][0]\n",
    "    send_email_from_sarah(email, first_name, company_name, 5)"
   ]
  }
 ],
 "metadata": {
  "kernelspec": {
   "display_name": "Python 3.8.2 64-bit",
   "language": "python",
   "name": "python38264bit2773b01ffd8f4539a47c872b218cf130"
  },
  "language_info": {
   "codemirror_mode": {
    "name": "ipython",
    "version": 3
   },
   "file_extension": ".py",
   "mimetype": "text/x-python",
   "name": "python",
   "nbconvert_exporter": "python",
   "pygments_lexer": "ipython3",
   "version": "3.8.2"
  }
 },
 "nbformat": 4,
 "nbformat_minor": 4
}
