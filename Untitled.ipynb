{
 "cells": [
  {
   "cell_type": "code",
   "execution_count": 6,
   "metadata": {},
   "outputs": [],
   "source": [
    "import time\n",
    "import pickle\n",
    "from selenium import webdriver\n",
    "from urllib.parse import urlparse\n",
    "from bs4 import BeautifulSoup\n",
    "from gsheet import authenticate"
   ]
  },
  {
   "cell_type": "code",
   "execution_count": 2,
   "metadata": {},
   "outputs": [],
   "source": [
    "chrome = webdriver.Chrome()"
   ]
  },
  {
   "cell_type": "code",
   "execution_count": 7,
   "metadata": {},
   "outputs": [],
   "source": [
    "ln_url = \"https://www.linkedin.com\"\n",
    "g_url = \"https://google.com\"\n",
    "outlook_office_url = \"https://outlook.office.com/\"\n",
    "outlook_url = \"https://outlook.live.com/\"\n",
    "outlook_live_url = \"https://outlook.live.com/mail/0/inbox\""
   ]
  },
  {
   "cell_type": "code",
   "execution_count": 8,
   "metadata": {},
   "outputs": [],
   "source": [
    "# def load_cookies(driver, location, url=None):\n",
    "#     cookies = pickle.load(open(location, \"rb\"))\n",
    "#     driver.delete_all_cookies()\n",
    "#     url = \"https://www.google.com\" if url is None else url\n",
    "#     driver.get(url)\n",
    "#     for cookie in cookies:\n",
    "#         driver.add_cookie(cookie)\n",
    "# load_cookies(chrome, \"cookies/outlook_mahmu.txt\")"
   ]
  },
  {
   "cell_type": "code",
   "execution_count": 14,
   "metadata": {},
   "outputs": [],
   "source": [
    "msg_body1 = open(\"html_msg.txt\").read()"
   ]
  },
  {
   "cell_type": "code",
   "execution_count": 9,
   "metadata": {},
   "outputs": [],
   "source": [
    "chrome.get(outlook_live_url)"
   ]
  },
  {
   "cell_type": "code",
   "execution_count": 106,
   "metadata": {},
   "outputs": [],
   "source": [
    "# pickle.dump(chrome.get_cookies(), open(\"cookies/outlook_mahmu.txt\", \"wb\"))"
   ]
  },
  {
   "cell_type": "code",
   "execution_count": 10,
   "metadata": {},
   "outputs": [],
   "source": [
    "# new_msg = chrome.find_elements_by_class_name(\"ms-Button--commandBar\")\n",
    "# new_msg = chrome.find_elements_by_partial_link_text(\"New message\")\n",
    "new_msg = chrome.find_elements_by_class_name(\"_33rLSYbzxvhXjgYTwfjWQI\")"
   ]
  },
  {
   "cell_type": "code",
   "execution_count": 11,
   "metadata": {},
   "outputs": [],
   "source": [
    "new_msg[0].click()"
   ]
  },
  {
   "cell_type": "code",
   "execution_count": 12,
   "metadata": {},
   "outputs": [],
   "source": [
    "client = authenticate(\"creds/s_a_creds.json\")\n",
    "# OPEN SHEET AND DO SOME MODIFICATIONS\n",
    "# sheet_url = \"https://docs.google.com/spreadsheets/d/1UGhTjkslKEjoYA0mDe5l8GtS80hS39IsTe0YTE5s0a8/edit#gid=0\"\n",
    "fortest = \"https://docs.google.com/spreadsheets/d/1UGhTjkslKEjoYA0mDe5l8GtS80hS39IsTe0YTE5s0a8/edit#gid=0\"\n",
    "workbook = client.open_by_url(fortest)\n",
    "selected_tab = workbook.worksheet(\"Sheet1\")\n",
    "# "
   ]
  },
  {
   "cell_type": "code",
   "execution_count": 15,
   "metadata": {},
   "outputs": [],
   "source": [
    "starting_row = 2\n",
    "finishing_row = 5\n",
    "companies = selected_tab.get(f\"A{starting_row}:A{finishing_row}\")\n",
    "first_names = selected_tab.get(f\"E{starting_row}:E{finishing_row}\")\n",
    "emails = selected_tab.get(f\"H{starting_row}:H{finishing_row}\")\n"
   ]
  },
  {
   "cell_type": "code",
   "execution_count": 16,
   "metadata": {},
   "outputs": [],
   "source": [
    "for i in range(len(emails)):\n",
    "    new_msg = chrome.find_elements_by_class_name(\"_33rLSYbzxvhXjgYTwfjWQI\")\n",
    "    new_msg[0].click()\n",
    "    email = emails[i][0]\n",
    "    company_name = companies[i][0]\n",
    "    first_name = first_names[i][0]\n",
    "    time.sleep(1)\n",
    "    to = chrome.find_elements_by_class_name(\"pickerInput_cf204fb8\")\n",
    "    to[0].send_keys(email)\n",
    "    subject = chrome.find_elements_by_xpath(\"//input[@placeholder='Add a subject']\")\n",
    "    subject[0].send_keys(f\"Private, online data science training exclusively for {company_name}\")\n",
    "    msg_body = chrome.find_elements_by_xpath(\"//div[@aria-label='Message body']\")\n",
    "    msg_body[0].send_keys(f\"Hi {first_name},{msg_body1}\")\n",
    "    time.sleep(2)"
   ]
  },
  {
   "cell_type": "code",
   "execution_count": 101,
   "metadata": {},
   "outputs": [],
   "source": []
  },
  {
   "cell_type": "code",
   "execution_count": 80,
   "metadata": {},
   "outputs": [],
   "source": [
    "msg_body = chrome.find_elements_by_xpath(\"//div[@aria-label='Message body']\")"
   ]
  },
  {
   "cell_type": "code",
   "execution_count": 81,
   "metadata": {},
   "outputs": [],
   "source": [
    "# msg_body[0].send_keys(\"message\")"
   ]
  },
  {
   "cell_type": "code",
   "execution_count": null,
   "metadata": {},
   "outputs": [],
   "source": []
  }
 ],
 "metadata": {
  "kernelspec": {
   "display_name": "Python 3.8.2 64-bit",
   "language": "python",
   "name": "python38264bit2773b01ffd8f4539a47c872b218cf130"
  },
  "language_info": {
   "codemirror_mode": {
    "name": "ipython",
    "version": 3
   },
   "file_extension": ".py",
   "mimetype": "text/x-python",
   "name": "python",
   "nbconvert_exporter": "python",
   "pygments_lexer": "ipython3",
   "version": "3.8.2"
  }
 },
 "nbformat": 4,
 "nbformat_minor": 4
}
